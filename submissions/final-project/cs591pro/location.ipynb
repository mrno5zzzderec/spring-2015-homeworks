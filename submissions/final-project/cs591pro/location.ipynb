{
 "metadata": {
  "name": "",
  "signature": "sha256:74be4391dce64857fe08c28f833186d424c10f2a00943ab061ebbe1c5d8bbaf7"
 },
 "nbformat": 3,
 "nbformat_minor": 0,
 "worksheets": [
  {
   "cells": [
    {
     "cell_type": "code",
     "collapsed": false,
     "input": [
      "import pickle\n",
      "import os"
     ],
     "language": "python",
     "metadata": {},
     "outputs": [],
     "prompt_number": 7
    },
    {
     "cell_type": "code",
     "collapsed": false,
     "input": [
      "res=[]\n",
      "def load_json(filename):\n",
      "    with open(filename, 'rb') as f:\n",
      "        return pickle.load(f)"
     ],
     "language": "python",
     "metadata": {},
     "outputs": [],
     "prompt_number": 3
    },
    {
     "cell_type": "code",
     "collapsed": false,
     "input": [
      "def load(dirname):\n",
      "    tmp=[]\n",
      "    for filename in os.listdir(dirname):\n",
      "        tmpfile=load_json(dirname+filename)\n",
      "        tmp.extend(tmpfile)\n",
      "    return tmp"
     ],
     "language": "python",
     "metadata": {},
     "outputs": [],
     "prompt_number": 14
    },
    {
     "cell_type": "code",
     "collapsed": false,
     "input": [
      "res=load('E:\\\\cs591pro\\\\location\\\\')"
     ],
     "language": "python",
     "metadata": {},
     "outputs": [],
     "prompt_number": 15
    },
    {
     "cell_type": "code",
     "collapsed": false,
     "input": [
      "print type(res[1]['coordinates'][0])"
     ],
     "language": "python",
     "metadata": {},
     "outputs": [
      {
       "output_type": "stream",
       "stream": "stdout",
       "text": [
        "<type 'float'>\n"
       ]
      }
     ],
     "prompt_number": 26
    },
    {
     "cell_type": "code",
     "collapsed": false,
     "input": [
      "with open('map.txt', 'wb') as r:\n",
      "    count=0\n",
      "    for ii in range(len(res)):\n",
      "        if ii%2==1:\n",
      "            r.write(str(res[ii]['coordinates'][1]))\n",
      "            r.write(',')\n",
      "            r.write(str(res[ii]['coordinates'][0]))\n",
      "            r.write('\\r\\n')"
     ],
     "language": "python",
     "metadata": {},
     "outputs": [],
     "prompt_number": 40
    },
    {
     "cell_type": "code",
     "collapsed": false,
     "input": [],
     "language": "python",
     "metadata": {},
     "outputs": []
    }
   ],
   "metadata": {}
  }
 ]
}
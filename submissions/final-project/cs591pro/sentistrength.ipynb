{
 "metadata": {
  "name": "",
  "signature": "sha256:3ab24998f92e310759e022737b6291f272db3fd27e9709125d42bce35d7e2b5c"
 },
 "nbformat": 3,
 "nbformat_minor": 0,
 "worksheets": [
  {
   "cells": [
    {
     "cell_type": "code",
     "collapsed": false,
     "input": [
      "from textblob import TextBlob\n",
      "import re\n",
      "import numpy as np\n",
      "import os\n",
      "import pickle\n",
      "import string\n",
      "import pandas as pd\n",
      "from pandas import DataFrame, Series\n",
      "import matplotlib.pyplot as plt\n",
      "%matplotlib inline"
     ],
     "language": "python",
     "metadata": {},
     "outputs": [],
     "prompt_number": 113
    },
    {
     "cell_type": "code",
     "collapsed": false,
     "input": [
      "def load_json(filename):\n",
      "    with open(filename+'.json', 'rb') as f:\n",
      "        return pickle.load(f)"
     ],
     "language": "python",
     "metadata": {},
     "outputs": [],
     "prompt_number": 9
    },
    {
     "cell_type": "code",
     "collapsed": false,
     "input": [
      "with open('cleng+results.txt', 'rb') as f:\n",
      "    line = f.readline()\n",
      "    while line:\n",
      "        res.append(line)\n",
      "        line=f.readline()"
     ],
     "language": "python",
     "metadata": {},
     "outputs": [],
     "prompt_number": 10
    },
    {
     "cell_type": "code",
     "collapsed": false,
     "input": [
      "res=load_json('cleng')\n",
      "print res[0]"
     ],
     "language": "python",
     "metadata": {},
     "outputs": [
      {
       "output_type": "stream",
       "stream": "stdout",
       "text": [
        "rt AT_USER get ready for fashionability channel's all that glitters episodes for the style info you want to know about the apple\u2026\n"
       ]
      }
     ],
     "prompt_number": 27
    },
    {
     "cell_type": "code",
     "collapsed": false,
     "input": [
      "with open('cleaned_eng.txt', 'wb') as r:\n",
      "    count=0\n",
      "    for item in res:\n",
      "        item=item.encode('ascii','ignore')\n",
      "        r.write(item)\n",
      "        r.write('\\r\\n')"
     ],
     "language": "python",
     "metadata": {},
     "outputs": [],
     "prompt_number": 45
    },
    {
     "cell_type": "code",
     "collapsed": false,
     "input": [
      "res=[]\n",
      "with open('cleaned_eng+results.txt', 'rb') as r:\n",
      "    line=r.readline()\n",
      "    while line:\n",
      "        res.append(line)\n",
      "        line=r.readline()\n"
     ],
     "language": "python",
     "metadata": {},
     "outputs": [],
     "prompt_number": 46
    },
    {
     "cell_type": "code",
     "collapsed": false,
     "input": [
      "pos=[]\n",
      "neg=[]"
     ],
     "language": "python",
     "metadata": {},
     "outputs": [],
     "prompt_number": 101
    },
    {
     "cell_type": "code",
     "collapsed": false,
     "input": [
      "for item in res:\n",
      "    pos.append(int(item[-6]))\n",
      "    neg.append(int(item[-4]+item[-3]))"
     ],
     "language": "python",
     "metadata": {},
     "outputs": [],
     "prompt_number": 102
    },
    {
     "cell_type": "code",
     "collapsed": false,
     "input": [
      "att=[]\n",
      "for ii in range(len(pos)):\n",
      "    t=pos[ii]+neg[ii]\n",
      "    att.append(t)"
     ],
     "language": "python",
     "metadata": {},
     "outputs": [],
     "prompt_number": 104
    },
    {
     "cell_type": "code",
     "collapsed": false,
     "input": [
      "att=np.array(att)"
     ],
     "language": "python",
     "metadata": {},
     "outputs": [],
     "prompt_number": 105
    },
    {
     "cell_type": "code",
     "collapsed": false,
     "input": [
      "print len(att)"
     ],
     "language": "python",
     "metadata": {},
     "outputs": [
      {
       "output_type": "stream",
       "stream": "stdout",
       "text": [
        "20495\n"
       ]
      }
     ],
     "prompt_number": 106
    },
    {
     "cell_type": "code",
     "collapsed": false,
     "input": [
      "print len(att[att>0])"
     ],
     "language": "python",
     "metadata": {},
     "outputs": [
      {
       "output_type": "stream",
       "stream": "stdout",
       "text": [
        "4445\n"
       ]
      }
     ],
     "prompt_number": 107
    },
    {
     "cell_type": "code",
     "collapsed": false,
     "input": [
      "print len(att[att<0])"
     ],
     "language": "python",
     "metadata": {},
     "outputs": [
      {
       "output_type": "stream",
       "stream": "stdout",
       "text": [
        "1816\n"
       ]
      }
     ],
     "prompt_number": 108
    },
    {
     "cell_type": "code",
     "collapsed": false,
     "input": [
      "lab=[]\n",
      "word=[]\n",
      "with open('test.txt') as f:\n",
      "    count=0\n",
      "    line=f.readline()\n",
      "    while line:\n",
      "        lab.append(line[0])\n",
      "        word.append(line[1:])\n",
      "        line=f.readline()"
     ],
     "language": "python",
     "metadata": {},
     "outputs": [],
     "prompt_number": 109
    },
    {
     "cell_type": "code",
     "collapsed": false,
     "input": [
      "with open('testeng.txt', 'wb') as r:\n",
      "    count=0\n",
      "    for item in word:\n",
      "        r.write(item)\n",
      "        r.write('\\r\\n')"
     ],
     "language": "python",
     "metadata": {},
     "outputs": [],
     "prompt_number": 115
    },
    {
     "cell_type": "code",
     "collapsed": false,
     "input": [
      "tres=[]\n",
      "with open('testeng+results.txt', 'rb') as f:\n",
      "    line = f.readline()\n",
      "    while line:\n",
      "        tres.append(line)\n",
      "        line=f.readline()"
     ],
     "language": "python",
     "metadata": {},
     "outputs": [],
     "prompt_number": 116
    },
    {
     "cell_type": "code",
     "collapsed": false,
     "input": [
      "tpos=[]\n",
      "tneg=[]"
     ],
     "language": "python",
     "metadata": {},
     "outputs": [],
     "prompt_number": 118
    },
    {
     "cell_type": "code",
     "collapsed": false,
     "input": [
      "for item in tres:\n",
      "    tpos.append(int(item[-6]))\n",
      "    tneg.append(int(item[-4]+item[-3]))"
     ],
     "language": "python",
     "metadata": {},
     "outputs": [],
     "prompt_number": 126
    },
    {
     "cell_type": "code",
     "collapsed": false,
     "input": [
      "att=[]\n",
      "for ii in range(len(tpos)):\n",
      "    t=pos[ii]+neg[ii]\n",
      "    if t>=0:\n",
      "        att.append(1)\n",
      "    else:\n",
      "        att.append(0)"
     ],
     "language": "python",
     "metadata": {},
     "outputs": [],
     "prompt_number": 127
    },
    {
     "cell_type": "code",
     "collapsed": false,
     "input": [
      "len(att)"
     ],
     "language": "python",
     "metadata": {},
     "outputs": [
      {
       "metadata": {},
       "output_type": "pyout",
       "prompt_number": 128,
       "text": [
        "7085"
       ]
      }
     ],
     "prompt_number": 128
    },
    {
     "cell_type": "code",
     "collapsed": false,
     "input": [
      "len(lab)"
     ],
     "language": "python",
     "metadata": {},
     "outputs": [
      {
       "metadata": {},
       "output_type": "pyout",
       "prompt_number": 129,
       "text": [
        "7086"
       ]
      }
     ],
     "prompt_number": 129
    },
    {
     "cell_type": "code",
     "collapsed": false,
     "input": [],
     "language": "python",
     "metadata": {},
     "outputs": []
    }
   ],
   "metadata": {}
  }
 ]
}
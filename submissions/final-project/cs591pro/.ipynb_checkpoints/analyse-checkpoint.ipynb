{
 "metadata": {
  "name": "",
  "signature": "sha256:23a15bde5c2038408869cae1519f720336d0fe3078c3011556f816ff891a8f87"
 },
 "nbformat": 3,
 "nbformat_minor": 0,
 "worksheets": [
  {
   "cells": [
    {
     "cell_type": "code",
     "collapsed": false,
     "input": [
      "from textblob import TextBlob\n",
      "import re\n",
      "import numpy as np\n",
      "import os\n",
      "import pickle\n",
      "import pandas as pd\n",
      "from pandas import DataFrame, Series\n",
      "import matplotlib.pyplot as plt\n",
      "%matplotlib inline"
     ],
     "language": "python",
     "metadata": {},
     "outputs": [],
     "prompt_number": 1
    },
    {
     "cell_type": "code",
     "collapsed": false,
     "input": [
      "def load_json(filename):\n",
      "    with open(filename+'.json', 'rb') as f:\n",
      "        return pickle.load(f)\n",
      "def save_json(filename, data):\n",
      "    with open(filename+'.json', 'wb') as f:\n",
      "        pickle.dump(data, f)"
     ],
     "language": "python",
     "metadata": {},
     "outputs": [],
     "prompt_number": 2
    },
    {
     "cell_type": "markdown",
     "metadata": {},
     "source": [
      "Load tweets scraped on 2015-04-13"
     ]
    },
    {
     "cell_type": "code",
     "collapsed": false,
     "input": [
      "ara3=load_json(r'E:\\cs591pro\\res\\0413ara')\n",
      "chi3=load_json(r'E:\\cs591pro\\res\\0413chi')\n",
      "eng3=load_json(r'E:\\cs591pro\\res\\0413eng')\n",
      "fra3=load_json(r'E:\\cs591pro\\res\\0413fra')\n",
      "ger3=load_json(r'E:\\cs591pro\\res\\0413ger')\n",
      "jap3=load_json(r'E:\\cs591pro\\res\\0413jap')\n",
      "rus3=load_json(r'E:\\cs591pro\\res\\0413rus')\n",
      "spa3=load_json(r'E:\\cs591pro\\res\\0413spa')\n",
      "other3=load_json(r'E:\\cs591pro\\res\\0413other')"
     ],
     "language": "python",
     "metadata": {},
     "outputs": [],
     "prompt_number": 3
    },
    {
     "cell_type": "markdown",
     "metadata": {},
     "source": [
      "Load tweets scraped on 2015-04-14"
     ]
    },
    {
     "cell_type": "code",
     "collapsed": false,
     "input": [
      "ara4=load_json(r'E:\\cs591pro\\res\\0414ara')\n",
      "chi4=load_json(r'E:\\cs591pro\\res\\0414chi')\n",
      "eng4=load_json(r'E:\\cs591pro\\res\\0414eng')\n",
      "fra4=load_json(r'E:\\cs591pro\\res\\0414fra')\n",
      "ger4=load_json(r'E:\\cs591pro\\res\\0414ger')\n",
      "jap4=load_json(r'E:\\cs591pro\\res\\0414jap')\n",
      "rus4=load_json(r'E:\\cs591pro\\res\\0414rus')\n",
      "spa4=load_json(r'E:\\cs591pro\\res\\0414spa')\n",
      "other4=load_json(r'E:\\cs591pro\\res\\0414other')"
     ],
     "language": "python",
     "metadata": {},
     "outputs": [],
     "prompt_number": 4
    },
    {
     "cell_type": "markdown",
     "metadata": {},
     "source": [
      "Load tweets scraped on 2015-04-15"
     ]
    },
    {
     "cell_type": "code",
     "collapsed": false,
     "input": [
      "ara5=load_json(r'E:\\cs591pro\\res\\0415ara')\n",
      "chi5=load_json(r'E:\\cs591pro\\res\\0415chi')\n",
      "eng5=load_json(r'E:\\cs591pro\\res\\0415eng')\n",
      "fra5=load_json(r'E:\\cs591pro\\res\\0415fra')\n",
      "ger5=load_json(r'E:\\cs591pro\\res\\0415ger')\n",
      "jap5=load_json(r'E:\\cs591pro\\res\\0415jap')\n",
      "rus5=load_json(r'E:\\cs591pro\\res\\0415rus')\n",
      "spa5=load_json(r'E:\\cs591pro\\res\\0415spa')\n",
      "other5=load_json(r'E:\\cs591pro\\res\\0415other')"
     ],
     "language": "python",
     "metadata": {},
     "outputs": [],
     "prompt_number": 5
    },
    {
     "cell_type": "markdown",
     "metadata": {},
     "source": [
      "Load tweets scraped on 2015-04-16"
     ]
    },
    {
     "cell_type": "code",
     "collapsed": false,
     "input": [
      "ara6=load_json(r'E:\\cs591pro\\res\\0416ara')\n",
      "chi6=load_json(r'E:\\cs591pro\\res\\0416chi')\n",
      "eng6=load_json(r'E:\\cs591pro\\res\\0416eng')\n",
      "fra6=load_json(r'E:\\cs591pro\\res\\0416fra')\n",
      "ger6=load_json(r'E:\\cs591pro\\res\\0416ger')\n",
      "jap6=load_json(r'E:\\cs591pro\\res\\0416jap')\n",
      "rus6=load_json(r'E:\\cs591pro\\res\\0416rus')\n",
      "spa6=load_json(r'E:\\cs591pro\\res\\0416spa')\n",
      "other6=load_json(r'E:\\cs591pro\\res\\0416other')"
     ],
     "language": "python",
     "metadata": {},
     "outputs": [],
     "prompt_number": 6
    },
    {
     "cell_type": "markdown",
     "metadata": {},
     "source": [
      "Load tweets scraped on 2015-04-17"
     ]
    },
    {
     "cell_type": "code",
     "collapsed": false,
     "input": [
      "ara7=load_json(r'E:\\cs591pro\\res\\0417ara')\n",
      "chi7=load_json(r'E:\\cs591pro\\res\\0417chi')\n",
      "eng7=load_json(r'E:\\cs591pro\\res\\0417eng')\n",
      "fra7=load_json(r'E:\\cs591pro\\res\\0417fra')\n",
      "ger7=load_json(r'E:\\cs591pro\\res\\0417ger')\n",
      "jap7=load_json(r'E:\\cs591pro\\res\\0417jap')\n",
      "rus7=load_json(r'E:\\cs591pro\\res\\0417rus')\n",
      "spa7=load_json(r'E:\\cs591pro\\res\\0417spa')\n",
      "other7=load_json(r'E:\\cs591pro\\res\\0417other')"
     ],
     "language": "python",
     "metadata": {},
     "outputs": [],
     "prompt_number": 7
    },
    {
     "cell_type": "markdown",
     "metadata": {},
     "source": [
      "Load tweets scraped on 2015-04-18"
     ]
    },
    {
     "cell_type": "code",
     "collapsed": false,
     "input": [
      "ara8=load_json(r'E:\\cs591pro\\res\\0418ara')\n",
      "chi8=load_json(r'E:\\cs591pro\\res\\0418chi')\n",
      "eng8=load_json(r'E:\\cs591pro\\res\\0418eng')\n",
      "fra8=load_json(r'E:\\cs591pro\\res\\0418fra')\n",
      "ger8=load_json(r'E:\\cs591pro\\res\\0418ger')\n",
      "jap8=load_json(r'E:\\cs591pro\\res\\0418jap')\n",
      "rus8=load_json(r'E:\\cs591pro\\res\\0418rus')\n",
      "spa8=load_json(r'E:\\cs591pro\\res\\0418spa')\n",
      "other8=load_json(r'E:\\cs591pro\\res\\0418other')"
     ],
     "language": "python",
     "metadata": {},
     "outputs": [],
     "prompt_number": 8
    },
    {
     "cell_type": "markdown",
     "metadata": {},
     "source": [
      "Load tweets scraped on 2015-04-19"
     ]
    },
    {
     "cell_type": "code",
     "collapsed": false,
     "input": [
      "ara9=load_json(r'E:\\cs591pro\\res\\0419ara')\n",
      "chi9=load_json(r'E:\\cs591pro\\res\\0419chi')\n",
      "eng9=load_json(r'E:\\cs591pro\\res\\0419eng')\n",
      "fra9=load_json(r'E:\\cs591pro\\res\\0419fra')\n",
      "ger9=load_json(r'E:\\cs591pro\\res\\0419ger')\n",
      "jap9=load_json(r'E:\\cs591pro\\res\\0419jap')\n",
      "rus9=load_json(r'E:\\cs591pro\\res\\0419rus')\n",
      "spa9=load_json(r'E:\\cs591pro\\res\\0419spa')\n",
      "other9=load_json(r'E:\\cs591pro\\res\\0419other')"
     ],
     "language": "python",
     "metadata": {},
     "outputs": [],
     "prompt_number": 9
    },
    {
     "cell_type": "markdown",
     "metadata": {},
     "source": [
      "Calculate the percentage of tweets in different languages. ara stands for Saudi language, chi stands for Chinese, eng stands for English, fra stands for French, ger stands for German, jap stands for Japanese, rus stands for Russian, spa stands for Spanish. "
     ]
    },
    {
     "cell_type": "code",
     "collapsed": false,
     "input": [
      "per=[]\n",
      "total=float(len(ara3)+len(chi3)+len(eng3)+len(fra3)+len(ger3)+len(jap3)+len(rus3)+len(spa3)+len(other3))\n",
      "per.append(len(ara3)/total)\n",
      "per.append(len(chi3)/total)\n",
      "per.append(len(eng3)/total)\n",
      "per.append(len(fra3)/total)\n",
      "per.append(len(ger3)/total)\n",
      "per.append(len(jap3)/total)\n",
      "per.append(len(rus3)/total)\n",
      "per.append(len(spa3)/total)\n",
      "per.append(len(other3)/total)\n",
      "\n",
      "\n",
      "\n",
      "total=float(len(ara4)+len(chi4)+len(eng4)+len(fra4)+len(ger4)+len(jap4)+len(rus4)+len(spa4)+len(other4))\n",
      "per.append(len(ara4)/total)\n",
      "per.append(len(chi4)/total)\n",
      "per.append(len(eng4)/total)\n",
      "per.append(len(fra4)/total)\n",
      "per.append(len(ger4)/total)\n",
      "per.append(len(jap4)/total)\n",
      "per.append(len(rus4)/total)\n",
      "per.append(len(spa4)/total)\n",
      "per.append(len(other4)/total)\n",
      "\n",
      "total=float(len(ara5)+len(chi5)+len(eng5)+len(fra5)+len(ger5)+len(jap5)+len(rus5)+len(spa5)+len(other5))\n",
      "per.append(len(ara5)/total)\n",
      "per.append(len(chi5)/total)\n",
      "per.append(len(eng5)/total)\n",
      "per.append(len(fra5)/total)\n",
      "per.append(len(ger5)/total)\n",
      "per.append(len(jap5)/total)\n",
      "per.append(len(rus5)/total)\n",
      "per.append(len(spa5)/total)\n",
      "per.append(len(other5)/total)\n",
      "\n",
      "\n",
      "\n",
      "total=float(len(ara6)+len(chi6)+len(eng6)+len(fra6)+len(ger6)+len(jap6)+len(rus6)+len(spa6)+len(other6))\n",
      "per.append(len(ara6)/total)\n",
      "per.append(len(chi6)/total)\n",
      "per.append(len(eng6)/total)\n",
      "per.append(len(fra6)/total)\n",
      "per.append(len(ger6)/total)\n",
      "per.append(len(jap6)/total)\n",
      "per.append(len(rus6)/total)\n",
      "per.append(len(spa6)/total)\n",
      "per.append(len(other6)/total)\n",
      "\n",
      "\n",
      "total=float(len(ara7)+len(chi7)+len(eng7)+len(fra7)+len(ger7)+len(jap7)+len(rus7)+len(spa7)+len(other7))\n",
      "per.append(len(ara7)/total)\n",
      "per.append(len(chi7)/total)\n",
      "per.append(len(eng7)/total)\n",
      "per.append(len(fra7)/total)\n",
      "per.append(len(ger7)/total)\n",
      "per.append(len(jap7)/total)\n",
      "per.append(len(rus7)/total)\n",
      "per.append(len(spa7)/total)\n",
      "per.append(len(other7)/total)\n",
      "\n",
      "\n",
      "\n",
      "total=float(len(ara8)+len(chi8)+len(eng8)+len(fra8)+len(ger8)+len(jap8)+len(rus8)+len(spa8)+len(other8))\n",
      "per.append(len(ara8)/total)\n",
      "per.append(len(chi8)/total)\n",
      "per.append(len(eng8)/total)\n",
      "per.append(len(fra8)/total)\n",
      "per.append(len(ger8)/total)\n",
      "per.append(len(jap8)/total)\n",
      "per.append(len(rus8)/total)\n",
      "per.append(len(spa8)/total)\n",
      "per.append(len(other8)/total)\n",
      "\n",
      "\n",
      "\n",
      "total=float(len(ara9)+len(chi9)+len(eng9)+len(fra9)+len(ger9)+len(jap9)+len(rus9)+len(spa9)+len(other9))\n",
      "per.append(len(ara9)/total)\n",
      "per.append(len(chi9)/total)\n",
      "per.append(len(eng9)/total)\n",
      "per.append(len(fra9)/total)\n",
      "per.append(len(ger9)/total)\n",
      "per.append(len(jap9)/total)\n",
      "per.append(len(rus9)/total)\n",
      "per.append(len(spa9)/total)\n",
      "per.append(len(other9)/total)"
     ],
     "language": "python",
     "metadata": {},
     "outputs": [],
     "prompt_number": 10
    },
    {
     "cell_type": "code",
     "collapsed": false,
     "input": [
      "data={'country':['ara', 'chi', 'eng','fra', 'ger', 'jap', 'rus', 'spa', 'other', 'ara', 'chi', 'eng','fra', 'ger', 'jap', 'rus', 'spa', 'other','ara', 'chi', 'eng','fra', 'ger', 'jap', 'rus', 'spa', 'other','ara', 'chi', 'eng','fra', 'ger', 'jap', 'rus', 'spa', 'other','ara', 'chi', 'eng','fra', 'ger', 'jap', 'rus', 'spa', 'other','ara', 'chi', 'eng','fra', 'ger', 'jap', 'rus', 'spa', 'other','ara', 'chi', 'eng','fra', 'ger', 'jap', 'rus', 'spa', 'other' ],\n",
      "      'day':[1,1,1,1,1,1,1,1,1,2,2,2,2,2,2,2,2,2,3,3,3,3,3,3,3,3,3,4,4,4,4,4,4,4,4,4,5,5,5,5,5,5,5,5,5,6,6,6,6,6,6,6,6,6,7,7,7,7,7,7,7,7,7],\n",
      "      'percentage':per}"
     ],
     "language": "python",
     "metadata": {},
     "outputs": [],
     "prompt_number": 11
    },
    {
     "cell_type": "code",
     "collapsed": false,
     "input": [
      "dataframe=DataFrame(data)\n",
      "dataframe.head()"
     ],
     "language": "python",
     "metadata": {},
     "outputs": [
      {
       "html": [
        "<div style=\"max-height:1000px;max-width:1500px;overflow:auto;\">\n",
        "<table border=\"1\" class=\"dataframe\">\n",
        "  <thead>\n",
        "    <tr style=\"text-align: right;\">\n",
        "      <th></th>\n",
        "      <th>country</th>\n",
        "      <th>day</th>\n",
        "      <th>percentage</th>\n",
        "    </tr>\n",
        "  </thead>\n",
        "  <tbody>\n",
        "    <tr>\n",
        "      <th>0</th>\n",
        "      <td> ara</td>\n",
        "      <td> 1</td>\n",
        "      <td> 0.011429</td>\n",
        "    </tr>\n",
        "    <tr>\n",
        "      <th>1</th>\n",
        "      <td> chi</td>\n",
        "      <td> 1</td>\n",
        "      <td> 0.000000</td>\n",
        "    </tr>\n",
        "    <tr>\n",
        "      <th>2</th>\n",
        "      <td> eng</td>\n",
        "      <td> 1</td>\n",
        "      <td> 0.812000</td>\n",
        "    </tr>\n",
        "    <tr>\n",
        "      <th>3</th>\n",
        "      <td> fra</td>\n",
        "      <td> 1</td>\n",
        "      <td> 0.035143</td>\n",
        "    </tr>\n",
        "    <tr>\n",
        "      <th>4</th>\n",
        "      <td> ger</td>\n",
        "      <td> 1</td>\n",
        "      <td> 0.009857</td>\n",
        "    </tr>\n",
        "  </tbody>\n",
        "</table>\n",
        "</div>"
       ],
       "metadata": {},
       "output_type": "pyout",
       "prompt_number": 12,
       "text": [
        "  country  day  percentage\n",
        "0     ara    1    0.011429\n",
        "1     chi    1    0.000000\n",
        "2     eng    1    0.812000\n",
        "3     fra    1    0.035143\n",
        "4     ger    1    0.009857"
       ]
      }
     ],
     "prompt_number": 12
    },
    {
     "cell_type": "code",
     "collapsed": false,
     "input": [
      "d=pd.crosstab(dataframe.day, dataframe.country)"
     ],
     "language": "python",
     "metadata": {},
     "outputs": [],
     "prompt_number": 13
    },
    {
     "cell_type": "code",
     "collapsed": false,
     "input": [
      "d.ix[1]=per[0:9]\n",
      "d.ix[2]=per[9:18]\n",
      "d.ix[3]=per[18:27]\n",
      "d.ix[4]=per[27:36]\n",
      "d.ix[5]=per[36:45]\n",
      "d.ix[6]=per[45:54]\n",
      "d.ix[7]=per[54:63]"
     ],
     "language": "python",
     "metadata": {},
     "outputs": [],
     "prompt_number": 14
    },
    {
     "cell_type": "markdown",
     "metadata": {},
     "source": [
      "Draw percentage image for different languages and days. Most of tweets are written in English, many of them are written in Japanese and Russian."
     ]
    },
    {
     "cell_type": "code",
     "collapsed": false,
     "input": [
      "d.plot(kind='bar', stacked=True)"
     ],
     "language": "python",
     "metadata": {},
     "outputs": [
      {
       "metadata": {},
       "output_type": "pyout",
       "prompt_number": 15,
       "text": [
        "<matplotlib.axes._subplots.AxesSubplot at 0x19640ac8>"
       ]
      },
      {
       "metadata": {},
       "output_type": "display_data",
       "png": "[encoded data removed]",
       "text": [
        "<matplotlib.figure.Figure at 0x196409e8>"
       ]
      }
     ],
     "prompt_number": 15
    },
    {
     "cell_type": "code",
     "collapsed": false,
     "input": [
      "d.plot(kind='bar')"
     ],
     "language": "python",
     "metadata": {},
     "outputs": [
      {
       "metadata": {},
       "output_type": "pyout",
       "prompt_number": 16,
       "text": [
        "<matplotlib.axes._subplots.AxesSubplot at 0x1a3d0278>"
       ]
      },
      {
       "metadata": {},
       "output_type": "display_data",
       "png": "[encoded data removed]",
       "text": [
        "<matplotlib.figure.Figure at 0x1a369fd0>"
       ]
      }
     ],
     "prompt_number": 16
    },
    {
     "cell_type": "code",
     "collapsed": false,
     "input": [
      "ara=[]\n",
      "chi=[]\n",
      "eng=[]\n",
      "fra=[]\n",
      "ger=[]\n",
      "jap=[]\n",
      "rus=[]\n",
      "spa=[]\n",
      "other=[]\n",
      "\n",
      "ara.extend(ara3)\n",
      "ara.extend(ara4)\n",
      "ara.extend(ara5)\n",
      "ara.extend(ara6)\n",
      "ara.extend(ara7)\n",
      "ara.extend(ara8)\n",
      "ara.extend(ara9)\n",
      "\n",
      "chi.extend(chi3)\n",
      "chi.extend(chi4)\n",
      "chi.extend(chi5)\n",
      "chi.extend(chi6)\n",
      "chi.extend(chi7)\n",
      "chi.extend(chi8)\n",
      "chi.extend(chi9)\n",
      "\n",
      "eng.extend(eng3)\n",
      "eng.extend(eng4)\n",
      "eng.extend(eng5)\n",
      "eng.extend(eng6)\n",
      "eng.extend(eng7)\n",
      "eng.extend(eng8)\n",
      "eng.extend(eng9)\n",
      "\n",
      "fra.extend(fra3)\n",
      "fra.extend(fra4)\n",
      "fra.extend(fra5)\n",
      "fra.extend(fra6)\n",
      "fra.extend(fra7)\n",
      "fra.extend(fra8)\n",
      "fra.extend(fra9)\n",
      "\n",
      "\n",
      "ger.extend(ger3)\n",
      "ger.extend(ger4)\n",
      "ger.extend(ger5)\n",
      "ger.extend(ger6)\n",
      "ger.extend(ger7)\n",
      "ger.extend(ger8)\n",
      "ger.extend(ger9)\n",
      "\n",
      "\n",
      "jap.extend(jap3)\n",
      "jap.extend(jap4)\n",
      "jap.extend(jap5)\n",
      "jap.extend(jap6)\n",
      "jap.extend(jap7)\n",
      "jap.extend(jap8)\n",
      "jap.extend(jap9)\n",
      "\n",
      "rus.extend(rus3)\n",
      "rus.extend(rus4)\n",
      "rus.extend(rus5)\n",
      "rus.extend(rus6)\n",
      "rus.extend(rus7)\n",
      "rus.extend(rus8)\n",
      "rus.extend(rus9)\n",
      "\n",
      "spa.extend(spa3)\n",
      "spa.extend(spa4)\n",
      "spa.extend(spa5)\n",
      "spa.extend(spa6)\n",
      "spa.extend(spa7)\n",
      "spa.extend(spa8)\n",
      "spa.extend(spa9)\n",
      "\n",
      "other.extend(other3)\n",
      "other.extend(other4)\n",
      "other.extend(other5)\n",
      "other.extend(other6)\n",
      "other.extend(other7)\n",
      "other.extend(other8)\n",
      "other.extend(other9)"
     ],
     "language": "python",
     "metadata": {},
     "outputs": [],
     "prompt_number": 17
    },
    {
     "cell_type": "code",
     "collapsed": false,
     "input": [
      "print len(ara)\n",
      "print len(chi)\n",
      "print len(eng)\n",
      "print len(fra)\n",
      "print len(ger)\n",
      "print len(jap)\n",
      "print len(rus)\n",
      "print len(spa)\n",
      "print len(other)"
     ],
     "language": "python",
     "metadata": {},
     "outputs": [
      {
       "output_type": "stream",
       "stream": "stdout",
       "text": [
        "219\n",
        "0\n",
        "20496\n",
        "725\n",
        "253\n",
        "2507\n",
        "103\n",
        "1247\n",
        "450\n"
       ]
      }
     ],
     "prompt_number": 18
    },
    {
     "cell_type": "code",
     "collapsed": false,
     "input": [
      "tolen=float(len(ara)+len(eng)+len(fra)+len(ger)+len(jap)+len(rus)+len(spa)+len(other))\n",
      "perc=[]\n",
      "perc.append(len(ara)/tolen)\n",
      "perc.append(len(eng)/tolen)\n",
      "perc.append(len(fra)/tolen)\n",
      "perc.append(len(ger)/tolen)\n",
      "perc.append(len(jap)/tolen)\n",
      "perc.append(len(rus)/tolen)\n",
      "perc.append(len(spa)/tolen)\n",
      "perc.append(len(other)/tolen)\n",
      "data={'Language':['Saudi', 'English', 'French', 'German', 'Japanese', 'Russian', 'Spanish', 'Other'],\n",
      "      'Percentage':perc}\n",
      "data=DataFrame(data)"
     ],
     "language": "python",
     "metadata": {},
     "outputs": [],
     "prompt_number": 19
    },
    {
     "cell_type": "code",
     "collapsed": false,
     "input": [
      "data.index=data['Language']\n",
      "data.plot(kind='bar')"
     ],
     "language": "python",
     "metadata": {},
     "outputs": [
      {
       "metadata": {},
       "output_type": "pyout",
       "prompt_number": 20,
       "text": [
        "<matplotlib.axes._subplots.AxesSubplot at 0x1b505898>"
       ]
      },
      {
       "metadata": {},
       "output_type": "display_data",
       "png": "[encoded data removed]",
       "text": [
        "<matplotlib.figure.Figure at 0x1ab30898>"
       ]
      }
     ],
     "prompt_number": 20
    },
    {
     "cell_type": "markdown",
     "metadata": {},
     "source": [
      "Now let us consider the popularity of Apple Watch in different country using the language information.  Get some information from \"Twitter Geography\", total tweet contributed by USA, UK, Canada and Australia in half a year is 56.59%, 8.09%, 4.36%, 2.63%. And 1.58% for Germany, 1.47% for Japanese, 0.64% for France, 0.57% for Spain, I do not get information about Russia and Saudi Arabia, so let us compare the United States, France, Germany, Japan and Spain."
     ]
    },
    {
     "cell_type": "code",
     "collapsed": false,
     "input": [
      "count_pop={'Country':['USA', 'Japan', 'France', 'Spain', 'Germany'],\n",
      "           'Pop':[len(eng)/56.59,len(jap)/1.47 ,len(fra)/0.64, len(spa)/0.57, len(ger)/1.58]}\n",
      "count_pop=DataFrame(count_pop)\n",
      "count_pop.index=['USA', 'Japan', 'France', 'Spain', 'Germany']\n",
      "count_pop.plot(kind='bar')"
     ],
     "language": "python",
     "metadata": {},
     "outputs": [
      {
       "metadata": {},
       "output_type": "pyout",
       "prompt_number": 21,
       "text": [
        "<matplotlib.axes._subplots.AxesSubplot at 0x1a91e550>"
       ]
      },
      {
       "metadata": {},
       "output_type": "display_data",
       "png": "[encoded data removed]",
       "text": [
        "<matplotlib.figure.Figure at 0x1a6ced68>"
       ]
      }
     ],
     "prompt_number": 21
    },
    {
     "cell_type": "markdown",
     "metadata": {},
     "source": [
      "Sentiment Analysis. Now let us analyse the sentiment about applewatch by analyzing tweets in English."
     ]
    },
    {
     "cell_type": "code",
     "collapsed": false,
     "input": [
      "print len(eng)"
     ],
     "language": "python",
     "metadata": {},
     "outputs": [
      {
       "output_type": "stream",
       "stream": "stdout",
       "text": [
        "20496\n"
       ]
      }
     ],
     "prompt_number": 22
    },
    {
     "cell_type": "code",
     "collapsed": false,
     "input": [
      "print eng[0]"
     ],
     "language": "python",
     "metadata": {},
     "outputs": [
      {
       "output_type": "stream",
       "stream": "stdout",
       "text": [
        "RT @InclusiveStyle: Get ready for Fashionability Channel's All That Glitters episodes for the #style info you want to know about the #Apple\u2026\n"
       ]
      }
     ],
     "prompt_number": 23
    },
    {
     "cell_type": "code",
     "collapsed": false,
     "input": [
      "test=TextBlob(eng[0])\n",
      "test.sentiment"
     ],
     "language": "python",
     "metadata": {},
     "outputs": [
      {
       "metadata": {},
       "output_type": "pyout",
       "prompt_number": 24,
       "text": [
        "Sentiment(polarity=0.2, subjectivity=0.5)"
       ]
      }
     ],
     "prompt_number": 24
    },
    {
     "cell_type": "code",
     "collapsed": false,
     "input": [
      "def cleanenglish(tweets):\n",
      "    res=[]\n",
      "    for tweet in tweets:\n",
      "        tweet=tweet.lower()\n",
      "        tweet=re.sub('((www\\.[^\\s]+)|(https?://[^\\s]+))', 'URL', tweet)\n",
      "        tweet=re.sub('@[^\\s]+', 'AT_USER', tweet)\n",
      "        tweet=re.sub('[\\s]+', ' ', tweet)\n",
      "        tweet=re.sub(r'#([^\\s]+)', r'\\1', tweet)\n",
      "        tweet=tweet.strip('\\'\"')\n",
      "        res.append(tweet)\n",
      "    return res"
     ],
     "language": "python",
     "metadata": {},
     "outputs": [],
     "prompt_number": 74
    },
    {
     "cell_type": "code",
     "collapsed": false,
     "input": [
      "cleaned_eng=cleanenglish(eng)\n",
      "cleaneng=np.array(cleaned_eng)"
     ],
     "language": "python",
     "metadata": {},
     "outputs": [],
     "prompt_number": 75
    },
    {
     "cell_type": "code",
     "collapsed": false,
     "input": [
      "attitude=[]\n",
      "for item in cleaned_eng:\n",
      "    testitem=TextBlob(item)\n",
      "    attitude.append(testitem.sentiment.polarity)"
     ],
     "language": "python",
     "metadata": {},
     "outputs": [],
     "prompt_number": 76
    },
    {
     "cell_type": "code",
     "collapsed": false,
     "input": [
      "print len(attitude)"
     ],
     "language": "python",
     "metadata": {},
     "outputs": [
      {
       "output_type": "stream",
       "stream": "stdout",
       "text": [
        "20496\n"
       ]
      }
     ],
     "prompt_number": 77
    },
    {
     "cell_type": "code",
     "collapsed": false,
     "input": [
      "att=np.array(attitude)"
     ],
     "language": "python",
     "metadata": {},
     "outputs": [],
     "prompt_number": 78
    },
    {
     "cell_type": "code",
     "collapsed": false,
     "input": [
      "print len(att[att==0])"
     ],
     "language": "python",
     "metadata": {},
     "outputs": [
      {
       "output_type": "stream",
       "stream": "stdout",
       "text": [
        "11053\n"
       ]
      }
     ],
     "prompt_number": 79
    },
    {
     "cell_type": "code",
     "collapsed": false,
     "input": [
      "posatt=att[att>0]\n",
      "negatt=att[att<0]\n",
      "postweet=cleaneng[att>0]\n",
      "negtweet=cleaneng[att<0]"
     ],
     "language": "python",
     "metadata": {},
     "outputs": [],
     "prompt_number": 80
    },
    {
     "cell_type": "code",
     "collapsed": false,
     "input": [
      "negsco=Series(negatt)"
     ],
     "language": "python",
     "metadata": {},
     "outputs": [],
     "prompt_number": 81
    },
    {
     "cell_type": "code",
     "collapsed": false,
     "input": [
      "negsco.hist(bins=20)"
     ],
     "language": "python",
     "metadata": {},
     "outputs": [
      {
       "metadata": {},
       "output_type": "pyout",
       "prompt_number": 82,
       "text": [
        "<matplotlib.axes._subplots.AxesSubplot at 0x1bd0af60>"
       ]
      },
      {
       "metadata": {},
       "output_type": "display_data",
       "png": "[encoded data removed]",
       "text": [
        "<matplotlib.figure.Figure at 0x1bd38470>"
       ]
      }
     ],
     "prompt_number": 82
    },
    {
     "cell_type": "code",
     "collapsed": false,
     "input": [
      "possco=Series(posatt)"
     ],
     "language": "python",
     "metadata": {},
     "outputs": [],
     "prompt_number": 83
    },
    {
     "cell_type": "code",
     "collapsed": false,
     "input": [
      "possco.hist(bins=20)"
     ],
     "language": "python",
     "metadata": {},
     "outputs": [
      {
       "metadata": {},
       "output_type": "pyout",
       "prompt_number": 84,
       "text": [
        "<matplotlib.axes._subplots.AxesSubplot at 0x2039d518>"
       ]
      },
      {
       "metadata": {},
       "output_type": "display_data",
       "png": "[encoded data removed]",
       "text": [
        "<matplotlib.figure.Figure at 0x1bd38898>"
       ]
      }
     ],
     "prompt_number": 84
    },
    {
     "cell_type": "code",
     "collapsed": false,
     "input": [
      "ceng3=cleanenglish(eng3)\n",
      "ceng4=cleanenglish(eng4)\n",
      "ceng5=cleanenglish(eng5)\n",
      "ceng6=cleanenglish(eng6)\n",
      "ceng7=cleanenglish(eng7)\n",
      "ceng8=cleanenglish(eng8)\n",
      "ceng9=cleanenglish(eng9)"
     ],
     "language": "python",
     "metadata": {},
     "outputs": [],
     "prompt_number": 85
    },
    {
     "cell_type": "code",
     "collapsed": false,
     "input": [
      "att3=[]\n",
      "for item in ceng3:\n",
      "    testitem=TextBlob(item)\n",
      "    att3.append(testitem.sentiment.polarity)\n"
     ],
     "language": "python",
     "metadata": {},
     "outputs": [],
     "prompt_number": 86
    },
    {
     "cell_type": "code",
     "collapsed": false,
     "input": [
      "att4=[]\n",
      "for item in ceng4:\n",
      "    testitem=TextBlob(item)\n",
      "    att4.append(testitem.sentiment.polarity)"
     ],
     "language": "python",
     "metadata": {},
     "outputs": [],
     "prompt_number": 87
    },
    {
     "cell_type": "code",
     "collapsed": false,
     "input": [
      "att5=[]\n",
      "for item in ceng5:\n",
      "    testitem=TextBlob(item)\n",
      "    att5.append(testitem.sentiment.polarity)"
     ],
     "language": "python",
     "metadata": {},
     "outputs": [],
     "prompt_number": 88
    },
    {
     "cell_type": "code",
     "collapsed": false,
     "input": [
      "att6=[]\n",
      "for item in ceng6:\n",
      "    testitem=TextBlob(item)\n",
      "    att6.append(testitem.sentiment.polarity)"
     ],
     "language": "python",
     "metadata": {},
     "outputs": [],
     "prompt_number": 89
    },
    {
     "cell_type": "code",
     "collapsed": false,
     "input": [
      "att7=[]\n",
      "for item in ceng7:\n",
      "    testitem=TextBlob(item)\n",
      "    att7.append(testitem.sentiment.polarity)"
     ],
     "language": "python",
     "metadata": {},
     "outputs": [],
     "prompt_number": 90
    },
    {
     "cell_type": "code",
     "collapsed": false,
     "input": [
      "att8=[]\n",
      "for item in ceng8:\n",
      "    testitem=TextBlob(item)\n",
      "    att8.append(testitem.sentiment.polarity)"
     ],
     "language": "python",
     "metadata": {},
     "outputs": [],
     "prompt_number": 91
    },
    {
     "cell_type": "code",
     "collapsed": false,
     "input": [
      "att9=[]\n",
      "for item in ceng9:\n",
      "    testitem=TextBlob(item)\n",
      "    att9.append(testitem.sentiment.polarity)"
     ],
     "language": "python",
     "metadata": {},
     "outputs": [],
     "prompt_number": 92
    },
    {
     "cell_type": "code",
     "collapsed": false,
     "input": [
      "att3=np.array(att3)\n",
      "att4=np.array(att4)\n",
      "att5=np.array(att5)\n",
      "att6=np.array(att6)\n",
      "att7=np.array(att7)\n",
      "att8=np.array(att8)\n",
      "att9=np.array(att9)\n"
     ],
     "language": "python",
     "metadata": {},
     "outputs": [],
     "prompt_number": 93
    },
    {
     "cell_type": "code",
     "collapsed": false,
     "input": [
      "ratio=[]\n",
      "ratio.append(len(att3[att3>0])/float(len(att3)))\n",
      "ratio.append(len(att4[att4>0])/float(len(att4)))\n",
      "ratio.append(len(att5[att5>0])/float(len(att5)))\n",
      "ratio.append(len(att6[att6>0])/float(len(att6)))\n",
      "ratio.append(len(att7[att7>0])/float(len(att7)))\n",
      "ratio.append(len(att8[att8>0])/float(len(att8)))\n",
      "ratio.append(len(att9[att9>0])/float(len(att9)))"
     ],
     "language": "python",
     "metadata": {},
     "outputs": [],
     "prompt_number": 94
    },
    {
     "cell_type": "code",
     "collapsed": false,
     "input": [
      "print ratio"
     ],
     "language": "python",
     "metadata": {},
     "outputs": [
      {
       "output_type": "stream",
       "stream": "stdout",
       "text": [
        "[0.40816326530612246, 0.3781148429035753, 0.4470868014268728, 0.4268462610311194, 0.34793650793650793, 0.2763045337895637, 0.2649685742639762]\n"
       ]
      }
     ],
     "prompt_number": 95
    },
    {
     "cell_type": "code",
     "collapsed": false,
     "input": [
      "plt.plot(ratio)"
     ],
     "language": "python",
     "metadata": {},
     "outputs": [
      {
       "metadata": {},
       "output_type": "pyout",
       "prompt_number": 96,
       "text": [
        "[<matplotlib.lines.Line2D at 0x1fa0f198>]"
       ]
      },
      {
       "metadata": {},
       "output_type": "display_data",
       "png": "[encoded data removed]",
       "text": [
        "<matplotlib.figure.Figure at 0x1ed40828>"
       ]
      }
     ],
     "prompt_number": 96
    },
    {
     "cell_type": "markdown",
     "metadata": {},
     "source": [
      "possco\n",
      "negsco\n",
      "posatt\n",
      "negatt\n",
      "postweet\n",
      "negtweet"
     ]
    },
    {
     "cell_type": "code",
     "collapsed": false,
     "input": [
      "transjap=[]\n",
      "for item in jap:\n",
      "    try:\n",
      "        test=TextBlob(item)\n",
      "        test=test.translate(to='en')\n",
      "    except:\n",
      "        continue\n",
      "    transjap.append(test)"
     ],
     "language": "python",
     "metadata": {},
     "outputs": [],
     "prompt_number": 110
    },
    {
     "cell_type": "code",
     "collapsed": false,
     "input": [
      "transfra=[]\n",
      "for item in fra:\n",
      "    try:\n",
      "        test=TextBlob(item)\n",
      "        test=test.translate(to='en')\n",
      "    except:\n",
      "        continue\n",
      "    transfra.append(test)"
     ],
     "language": "python",
     "metadata": {},
     "outputs": [],
     "prompt_number": 111
    },
    {
     "cell_type": "code",
     "collapsed": false,
     "input": [
      "transger=[]\n",
      "for item in ger:\n",
      "    try:\n",
      "        test=TextBlob(item)\n",
      "        test=test.translate(to='en')\n",
      "    except:\n",
      "        continue\n",
      "    transger.append(test)"
     ],
     "language": "python",
     "metadata": {},
     "outputs": [],
     "prompt_number": 112
    },
    {
     "cell_type": "code",
     "collapsed": false,
     "input": [
      "transara=[]\n",
      "for item in ara:\n",
      "    try:\n",
      "        test=TextBlob(item)\n",
      "        test=test.translate(to='en')\n",
      "    except:\n",
      "        continue\n",
      "    transara.append(test)"
     ],
     "language": "python",
     "metadata": {},
     "outputs": [],
     "prompt_number": 113
    },
    {
     "cell_type": "code",
     "collapsed": false,
     "input": [
      "transrus=[]\n",
      "for item in rus:\n",
      "    try:\n",
      "        test=TextBlob(item)\n",
      "        test=test.translate(to='en')\n",
      "    except:\n",
      "        continue\n",
      "    transrus.append(test)"
     ],
     "language": "python",
     "metadata": {},
     "outputs": [],
     "prompt_number": 114
    },
    {
     "cell_type": "code",
     "collapsed": false,
     "input": [
      "transspa=[]\n",
      "for item in spa:\n",
      "    try:\n",
      "        test=TextBlob(item)\n",
      "        test=test.translate(to='en')\n",
      "    except:\n",
      "        continue\n",
      "    transspa.append(test)"
     ],
     "language": "python",
     "metadata": {},
     "outputs": [],
     "prompt_number": 115
    },
    {
     "cell_type": "code",
     "collapsed": false,
     "input": [
      "save_json('jap', transjap)\n",
      "save_json('fra', transfra)\n",
      "save_json('ger', transger)\n",
      "save_json('ara', transara)\n",
      "save_json('rus', transrus)\n",
      "save_json('spa', transspa)"
     ],
     "language": "python",
     "metadata": {},
     "outputs": [],
     "prompt_number": 116
    },
    {
     "cell_type": "code",
     "collapsed": false,
     "input": [],
     "language": "python",
     "metadata": {},
     "outputs": []
    }
   ],
   "metadata": {}
  }
 ]
}
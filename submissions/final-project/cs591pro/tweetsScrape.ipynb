{
 "metadata": {
  "name": "",
  "signature": "sha256:e45ba149ade4aefd871f83e0c65cad3183183020507002d611d8783c881874f0"
 },
 "nbformat": 3,
 "nbformat_minor": 0,
 "worksheets": [
  {
   "cells": [
    {
     "cell_type": "code",
     "collapsed": false,
     "input": [
      "import twitter\n",
      "from functools import partial\n",
      "import io, json\n",
      "import pickle\n",
      "import pymongo\n",
      "import sys\n",
      "import datetime\n",
      "import time\n",
      "pp=partial(json.dumps, indent=1)"
     ],
     "language": "python",
     "metadata": {},
     "outputs": [],
     "prompt_number": 1
    },
    {
     "cell_type": "code",
     "collapsed": false,
     "input": [
      "def oauth_login():\n",
      "    CONSUMER_KEY='*'\n",
      "    CONSUMER_SECRET='*'\n",
      "    OAUTH_TOKEN='*'\n",
      "    OAUTH_TOKEN_SECRET='*'\n",
      "    auth=twitter.oauth.OAuth(OAUTH_TOKEN, OAUTH_TOKEN_SECRET, CONSUMER_KEY, CONSUMER_SECRET)\n",
      "    twitter_api=twitter.Twitter(auth=auth)\n",
      "    return twitter_api"
     ],
     "language": "python",
     "metadata": {},
     "outputs": [],
     "prompt_number": 2
    },
    {
     "cell_type": "code",
     "collapsed": false,
     "input": [
      "def save_json(filename, data):\n",
      "    with open(filename+'.json', 'wb') as f:\n",
      "        pickle.dump(data, f)\n",
      "        return len(data)\n",
      "def load_json(filename):\n",
      "    with open(filename+'.json', 'rb') as f:\n",
      "        return pickle.load(f)"
     ],
     "language": "python",
     "metadata": {},
     "outputs": [],
     "prompt_number": 3
    },
    {
     "cell_type": "code",
     "collapsed": false,
     "input": [
      "q=\"applewatch\"\n",
      "twitter_api=oauth_login()\n",
      "twitter_stream = twitter.TwitterStream(auth=twitter_api.auth)\n",
      "stream = twitter_stream.statuses.filter(track=q)\n",
      "res=[]\n",
      "for tweet in stream:\n",
      "    res.append(tweet['text'])\n",
      "    if len(res)>=100:\n",
      "        now = str(datetime.datetime.now()).split(\".\")[0].replace(\":\", \"-\")\n",
      "        save_json(now, res)\n",
      "        res=[]\n"
     ],
     "language": "python",
     "metadata": {},
     "outputs": [
      {
       "ename": "TypeError",
       "evalue": "'TwitterStreamCall' object is not iterable",
       "output_type": "pyerr",
       "traceback": [
        "\u001b[1;31m---------------------------------------------------------------------------\u001b[0m\n\u001b[1;31mTypeError\u001b[0m                                 Traceback (most recent call last)",
        "\u001b[1;32m<ipython-input-8-62db5b91ec21>\u001b[0m in \u001b[0;36m<module>\u001b[1;34m()\u001b[0m\n\u001b[0;32m      5\u001b[0m \u001b[0mstream\u001b[0m \u001b[1;33m=\u001b[0m \u001b[0mtwitter_stream\u001b[0m\u001b[1;33m.\u001b[0m\u001b[0mstatuses\u001b[0m\u001b[1;33m\u001b[0m\u001b[0m\n\u001b[0;32m      6\u001b[0m \u001b[0mres\u001b[0m\u001b[1;33m=\u001b[0m\u001b[1;33m[\u001b[0m\u001b[1;33m]\u001b[0m\u001b[1;33m\u001b[0m\u001b[0m\n\u001b[1;32m----> 7\u001b[1;33m \u001b[1;32mfor\u001b[0m \u001b[0mtweet\u001b[0m \u001b[1;32min\u001b[0m \u001b[0mstream\u001b[0m\u001b[1;33m:\u001b[0m\u001b[1;33m\u001b[0m\u001b[0m\n\u001b[0m\u001b[0;32m      8\u001b[0m     \u001b[0mres\u001b[0m\u001b[1;33m.\u001b[0m\u001b[0mappend\u001b[0m\u001b[1;33m(\u001b[0m\u001b[0mtweet\u001b[0m\u001b[1;33m[\u001b[0m\u001b[1;34m'text'\u001b[0m\u001b[1;33m]\u001b[0m\u001b[1;33m)\u001b[0m\u001b[1;33m\u001b[0m\u001b[0m\n\u001b[0;32m      9\u001b[0m     \u001b[1;32mif\u001b[0m \u001b[0mlen\u001b[0m\u001b[1;33m(\u001b[0m\u001b[0mres\u001b[0m\u001b[1;33m)\u001b[0m\u001b[1;33m>=\u001b[0m\u001b[1;36m100\u001b[0m\u001b[1;33m:\u001b[0m\u001b[1;33m\u001b[0m\u001b[0m\n",
        "\u001b[1;31mTypeError\u001b[0m: 'TwitterStreamCall' object is not iterable"
       ]
      }
     ],
     "prompt_number": 8
    },
    {
     "cell_type": "code",
     "collapsed": false,
     "input": [],
     "language": "python",
     "metadata": {},
     "outputs": []
    }
   ],
   "metadata": {}
  }
 ]
}
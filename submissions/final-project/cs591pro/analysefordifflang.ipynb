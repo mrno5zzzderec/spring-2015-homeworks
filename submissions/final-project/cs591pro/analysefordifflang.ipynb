{
 "metadata": {
  "name": "",
  "signature": "sha256:c8110a46d859947b42cd0ae1abb205f04251b181a382d41be9d958697e487a22"
 },
 "nbformat": 3,
 "nbformat_minor": 0,
 "worksheets": [
  {
   "cells": [
    {
     "cell_type": "code",
     "collapsed": false,
     "input": [
      "from textblob import TextBlob\n",
      "import re\n",
      "import numpy as np\n",
      "import os\n",
      "import pickle\n",
      "import pandas as pd\n",
      "from pandas import DataFrame, Series\n",
      "import matplotlib.pyplot as plt\n",
      "import string\n",
      "%matplotlib inline"
     ],
     "language": "python",
     "metadata": {},
     "outputs": [],
     "prompt_number": 1
    },
    {
     "cell_type": "code",
     "collapsed": false,
     "input": [
      "def load_json(filename):\n",
      "    with open(filename+'.json', 'rb') as f:\n",
      "        return pickle.load(f)\n",
      "def save_json(filename, data):\n",
      "    with open(filename+'.json', 'wb') as f:\n",
      "        pickle.dump(data, f)"
     ],
     "language": "python",
     "metadata": {},
     "outputs": [],
     "prompt_number": 2
    },
    {
     "cell_type": "code",
     "collapsed": false,
     "input": [
      "eng=load_json('eng')\n",
      "ara=load_json('ara')\n",
      "fra=load_json('fra')\n",
      "ger=load_json('ger')\n",
      "jap=load_json('jap')\n",
      "rus=load_json('rus')\n",
      "spa=load_json('spa')"
     ],
     "language": "python",
     "metadata": {},
     "outputs": [],
     "prompt_number": 3
    },
    {
     "cell_type": "code",
     "collapsed": false,
     "input": [
      "def cleanenglish(tweets):\n",
      "    res=[]\n",
      "    for tweet in tweets:\n",
      "        tweet=str(tweet)\n",
      "        tweet=tweet.lower()\n",
      "        tweet=filter(lambda x: x in string.printable, tweet)\n",
      "        tweet=re.sub('\\[.*\\]', \"\", tweet)\n",
      "        #tweet=tweet.encode('ascii', \"ignore\")\n",
      "        tweet=re.sub(r\"(\\xe2\\x98\\x85|\\xe2\\x97\\x86\\xf0\\x9f\\x93\\x83)|(\\d+\u2212\\d+\u2212\\d+)\", \"\", tweet)  \n",
      "        tweet=re.sub('((www\\.[^\\s]+)|(https?://[^\\s]+))', 'URL', tweet)\n",
      "        tweet=re.sub('@[^\\s]+', 'AT_USER', tweet)\n",
      "        tweet=re.sub('[\\s]+', ' ', tweet)\n",
      "        tweet=re.sub(r'#([^\\s]+)', r'\\1', tweet)\n",
      "        tweet=tweet.strip('\\'\"')\n",
      "        res.append(tweet)\n",
      "    return res"
     ],
     "language": "python",
     "metadata": {},
     "outputs": [],
     "prompt_number": 4
    },
    {
     "cell_type": "code",
     "collapsed": false,
     "input": [
      "cara=Series(cleanenglish(ara))\n",
      "cfra=Series(cleanenglish(fra))\n",
      "cger=Series(cleanenglish(ger))\n",
      "cjap=Series(cleanenglish(jap))\n",
      "crus=Series(cleanenglish(rus))\n",
      "cspa=Series(cleanenglish(spa))"
     ],
     "language": "python",
     "metadata": {},
     "outputs": [],
     "prompt_number": 5
    },
    {
     "cell_type": "code",
     "collapsed": false,
     "input": [
      "attara=[]\n",
      "for item in cara:\n",
      "    testitem=TextBlob(item)\n",
      "    attara.append(testitem.sentiment.polarity)\n",
      "attara=np.array(attara)"
     ],
     "language": "python",
     "metadata": {},
     "outputs": [],
     "prompt_number": 6
    },
    {
     "cell_type": "code",
     "collapsed": false,
     "input": [
      "attfra=[]\n",
      "for item in cfra:\n",
      "    testitem=TextBlob(item)\n",
      "    attfra.append(testitem.sentiment.polarity)\n",
      "attfra=np.array(attfra)"
     ],
     "language": "python",
     "metadata": {},
     "outputs": [],
     "prompt_number": 7
    },
    {
     "cell_type": "code",
     "collapsed": false,
     "input": [
      "attger=[]\n",
      "for item in cger:\n",
      "    testitem=TextBlob(item)\n",
      "    attger.append(testitem.sentiment.polarity)\n",
      "attger=np.array(attger)"
     ],
     "language": "python",
     "metadata": {},
     "outputs": [],
     "prompt_number": 8
    },
    {
     "cell_type": "code",
     "collapsed": false,
     "input": [
      "attjap=[]\n",
      "for item in cjap:\n",
      "    testitem=TextBlob(item)\n",
      "    attjap.append(testitem.sentiment.polarity)\n",
      "attjap=np.array(attjap)"
     ],
     "language": "python",
     "metadata": {},
     "outputs": [],
     "prompt_number": 9
    },
    {
     "cell_type": "code",
     "collapsed": false,
     "input": [
      "attrus=[]\n",
      "for item in crus:\n",
      "    testitem=TextBlob(item)\n",
      "    attrus.append(testitem.sentiment.polarity)\n",
      "attrus=np.array(attrus)"
     ],
     "language": "python",
     "metadata": {},
     "outputs": [],
     "prompt_number": 10
    },
    {
     "cell_type": "code",
     "collapsed": false,
     "input": [
      "attspa=[]\n",
      "for item in cspa:\n",
      "    testitem=TextBlob(item)\n",
      "    attspa.append(testitem.sentiment.polarity)\n",
      "attspa=np.array(attspa)"
     ],
     "language": "python",
     "metadata": {},
     "outputs": [],
     "prompt_number": 11
    },
    {
     "cell_type": "code",
     "collapsed": false,
     "input": [
      "print len(attara[attara>0])\n",
      "print len(attara[attara<0])\n",
      "print len(attara)"
     ],
     "language": "python",
     "metadata": {},
     "outputs": [
      {
       "output_type": "stream",
       "stream": "stdout",
       "text": [
        "50\n",
        "3\n",
        "219\n"
       ]
      }
     ],
     "prompt_number": 12
    },
    {
     "cell_type": "code",
     "collapsed": false,
     "input": [
      "print len(attfra[attfra>0])\n",
      "print len(attfra[attfra<0])\n",
      "print len(attfra)"
     ],
     "language": "python",
     "metadata": {},
     "outputs": [
      {
       "output_type": "stream",
       "stream": "stdout",
       "text": [
        "298\n",
        "72\n",
        "725\n"
       ]
      }
     ],
     "prompt_number": 13
    },
    {
     "cell_type": "code",
     "collapsed": false,
     "input": [
      "print len(attger[attger>0])\n",
      "print len(attger[attger<0])\n",
      "print len(attger)"
     ],
     "language": "python",
     "metadata": {},
     "outputs": [
      {
       "output_type": "stream",
       "stream": "stdout",
       "text": [
        "117\n",
        "31\n",
        "253\n"
       ]
      }
     ],
     "prompt_number": 14
    },
    {
     "cell_type": "code",
     "collapsed": false,
     "input": [
      "print len(attjap[attjap>0])\n",
      "print len(attjap[attjap<0])\n",
      "print len(attjap)"
     ],
     "language": "python",
     "metadata": {},
     "outputs": [
      {
       "output_type": "stream",
       "stream": "stdout",
       "text": [
        "966\n",
        "265\n",
        "2507\n"
       ]
      }
     ],
     "prompt_number": 15
    },
    {
     "cell_type": "code",
     "collapsed": false,
     "input": [
      "print len(attrus[attrus>0])\n",
      "print len(attrus[attrus<0])\n",
      "print len(attrus)"
     ],
     "language": "python",
     "metadata": {},
     "outputs": [
      {
       "output_type": "stream",
       "stream": "stdout",
       "text": [
        "41\n",
        "13\n",
        "103\n"
       ]
      }
     ],
     "prompt_number": 16
    },
    {
     "cell_type": "code",
     "collapsed": false,
     "input": [
      "print len(attspa[attspa>0])\n",
      "print len(attspa[attspa<0])\n",
      "print len(attspa)"
     ],
     "language": "python",
     "metadata": {},
     "outputs": [
      {
       "output_type": "stream",
       "stream": "stdout",
       "text": [
        "699\n",
        "87\n",
        "1247\n"
       ]
      }
     ],
     "prompt_number": 17
    },
    {
     "cell_type": "code",
     "collapsed": false,
     "input": [
      "data={'country':['USA', 'Saudi Arabia', 'france','germany', 'Japan', 'Russia', 'Spain'],\n",
      "      'ratio':[7865/20496.0, 50/219.0, 298/725.0, 117/253.0, 966/2507.0, 41/103.0, 699/1247.0]}"
     ],
     "language": "python",
     "metadata": {},
     "outputs": [],
     "prompt_number": 22
    },
    {
     "cell_type": "code",
     "collapsed": false,
     "input": [
      "data=DataFrame(data)"
     ],
     "language": "python",
     "metadata": {},
     "outputs": [],
     "prompt_number": 23
    },
    {
     "cell_type": "code",
     "collapsed": false,
     "input": [
      "data.index=data['country']"
     ],
     "language": "python",
     "metadata": {},
     "outputs": [],
     "prompt_number": 24
    },
    {
     "cell_type": "code",
     "collapsed": false,
     "input": [
      "data.plot(kind='bar')"
     ],
     "language": "python",
     "metadata": {},
     "outputs": [
      {
       "metadata": {},
       "output_type": "pyout",
       "prompt_number": 25,
       "text": [
        "<matplotlib.axes._subplots.AxesSubplot at 0x1b020198>"
       ]
      },
      {
       "metadata": {},
       "output_type": "display_data",
       "png": "[encoded data removed]",
       "text": [
        "<matplotlib.figure.Figure at 0x1af98898>"
       ]
      }
     ],
     "prompt_number": 25
    },
    {
     "cell_type": "code",
     "collapsed": false,
     "input": [],
     "language": "python",
     "metadata": {},
     "outputs": []
    }
   ],
   "metadata": {}
  }
 ]
}
{
 "metadata": {
  "name": "",
  "signature": "sha256:36b734b22910d7cfcdfd0264496fa007669d0d5eec24a291f21aa095ce24e969"
 },
 "nbformat": 3,
 "nbformat_minor": 0,
 "worksheets": [
  {
   "cells": [
    {
     "cell_type": "code",
     "collapsed": false,
     "input": [
      "from textblob import TextBlob\n",
      "import os\n",
      "import pickle"
     ],
     "language": "python",
     "metadata": {},
     "outputs": [],
     "prompt_number": 1
    },
    {
     "cell_type": "code",
     "collapsed": false,
     "input": [
      "def load_json(filename):\n",
      "    with open(filename, 'rb') as f:\n",
      "        return pickle.load(f)\n",
      "def save_json(filename, data):\n",
      "    with open(filename+'.json', 'wb') as f:\n",
      "        pickle.dump(data, f)"
     ],
     "language": "python",
     "metadata": {},
     "outputs": [],
     "prompt_number": 2
    },
    {
     "cell_type": "code",
     "collapsed": false,
     "input": [
      "def checktweets(dirname):\n",
      "    eng=[] \n",
      "    chi=[]\n",
      "    jap=[]\n",
      "    fra=[]\n",
      "    rus=[]\n",
      "    spa=[]\n",
      "    ger=[]\n",
      "    ara=[]\n",
      "    other=[]\n",
      "    for filename in os.listdir(dirname):\n",
      "        tmpfile=load_json(dirname+filename)\n",
      "        for item in tmpfile:\n",
      "            en_blob = TextBlob(item)\n",
      "            try:\n",
      "                lang=en_blob.detect_language()\n",
      "                #language.append(lang)\n",
      "                #print type(lang)\n",
      "                if lang=='en':\n",
      "                    \n",
      "                    eng.append(item)\n",
      "                elif lang=='zh':\n",
      "                    chi.append(item)\n",
      "                elif lang=='ja':\n",
      "                    jap.append(item)\n",
      "                elif lang=='ru':\n",
      "                    rus.append(item)\n",
      "                elif lang=='es':\n",
      "                    spa.append(item)\n",
      "                elif lang=='de':\n",
      "                    ger.append(item)\n",
      "                elif lang=='ar':\n",
      "                    ara.append(item)\n",
      "                elif lang=='fr':\n",
      "                    fra.append(item)\n",
      "                else:\n",
      "                    other.append(item)\n",
      "            except:\n",
      "                continue\n",
      "    re=dirname.split('\\\\')\n",
      "    saveeng='E:\\\\cs591pro\\\\res\\\\'+re[-2]+'eng'\n",
      "    print saveeng\n",
      "    save_json(saveeng,eng)\n",
      "    savechi='E:\\\\cs591pro\\\\res\\\\'+re[-2]+'chi'\n",
      "    save_json(savechi, chi)\n",
      "    savejap='E:\\\\cs591pro\\\\res\\\\'+re[-2]+'jap'\n",
      "    save_json(savejap, jap)\n",
      "    savefra='E:\\\\cs591pro\\\\res\\\\'+re[-2]+'fra'\n",
      "    save_json(savefra, fra)\n",
      "    saverus='E:\\\\cs591pro\\\\res\\\\'+re[-2]+'rus'\n",
      "    save_json(saverus, rus) \n",
      "    savespa='E:\\\\cs591pro\\\\res\\\\'+re[-2]+'spa'\n",
      "    save_json(savespa, spa)\n",
      "    saveger='E:\\\\cs591pro\\\\res\\\\'+re[-2]+'ger'\n",
      "    save_json(saveger, ger)\n",
      "    saveara='E:\\\\cs591pro\\\\res\\\\'+re[-2]+'ara'\n",
      "    save_json(saveara, ara)\n",
      "    saveother='E:\\\\cs591pro\\\\res\\\\'+re[-2]+'other'\n",
      "    save_json(saveother, other)"
     ],
     "language": "python",
     "metadata": {},
     "outputs": [],
     "prompt_number": 8
    },
    {
     "cell_type": "code",
     "collapsed": false,
     "input": [
      "checktweets('E:\\\\cs591pro\\\\0413\\\\')"
     ],
     "language": "python",
     "metadata": {},
     "outputs": [
      {
       "output_type": "stream",
       "stream": "stdout",
       "text": [
        "E:\\cs591pro\\res\\0413eng\n"
       ]
      }
     ],
     "prompt_number": 9
    },
    {
     "cell_type": "code",
     "collapsed": false,
     "input": [
      "checktweets('E:\\\\cs591pro\\\\0414\\\\')\n",
      "checktweets('E:\\\\cs591pro\\\\0415\\\\')\n",
      "checktweets('E:\\\\cs591pro\\\\0416\\\\')\n",
      "checktweets('E:\\\\cs591pro\\\\0417\\\\')\n",
      "checktweets('E:\\\\cs591pro\\\\0418\\\\')\n",
      "checktweets('E:\\\\cs591pro\\\\0419\\\\')"
     ],
     "language": "python",
     "metadata": {},
     "outputs": [
      {
       "output_type": "stream",
       "stream": "stdout",
       "text": [
        "E:\\cs591pro\\res\\0414eng\n",
        "E:\\cs591pro\\res\\0415eng"
       ]
      },
      {
       "output_type": "stream",
       "stream": "stdout",
       "text": [
        "\n",
        "E:\\cs591pro\\res\\0416eng"
       ]
      },
      {
       "output_type": "stream",
       "stream": "stdout",
       "text": [
        "\n",
        "E:\\cs591pro\\res\\0417eng"
       ]
      },
      {
       "output_type": "stream",
       "stream": "stdout",
       "text": [
        "\n",
        "E:\\cs591pro\\res\\0418eng"
       ]
      },
      {
       "output_type": "stream",
       "stream": "stdout",
       "text": [
        "\n",
        "E:\\cs591pro\\res\\0419eng"
       ]
      },
      {
       "output_type": "stream",
       "stream": "stdout",
       "text": [
        "\n"
       ]
      }
     ],
     "prompt_number": 10
    },
    {
     "cell_type": "code",
     "collapsed": false,
     "input": [],
     "language": "python",
     "metadata": {},
     "outputs": [],
     "prompt_number": 0
    },
    {
     "cell_type": "code",
     "collapsed": false,
     "input": [],
     "language": "python",
     "metadata": {},
     "outputs": [],
     "prompt_number": 0
    },
    {
     "cell_type": "code",
     "collapsed": false,
     "input": [],
     "language": "python",
     "metadata": {},
     "outputs": [],
     "prompt_number": 0
    },
    {
     "cell_type": "code",
     "collapsed": false,
     "input": [],
     "language": "python",
     "metadata": {},
     "outputs": []
    }
   ],
   "metadata": {}
  }
 ]
}
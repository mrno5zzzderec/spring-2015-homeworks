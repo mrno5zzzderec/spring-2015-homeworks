{
 "metadata": {
  "name": "",
  "signature": "sha256:b93f3dc7a3f746d869b0c1d6feecc51ff4ebfc39d8210486cfe79af48a245ac0"
 },
 "nbformat": 3,
 "nbformat_minor": 0,
 "worksheets": [
  {
   "cells": [
    {
     "cell_type": "code",
     "collapsed": false,
     "input": [
      "import pickle\n",
      "from textblob import TextBlob\n",
      "import string\n",
      "import re"
     ],
     "language": "python",
     "metadata": {},
     "outputs": [],
     "prompt_number": 14
    },
    {
     "cell_type": "code",
     "collapsed": false,
     "input": [
      "lab=[]\n",
      "word=[]\n",
      "with open('test.txt') as f:\n",
      "    count=0\n",
      "    line=f.readline()\n",
      "    while line:\n",
      "        lab.append(line[0])\n",
      "        word.append(line[1:])\n",
      "        line=f.readline()"
     ],
     "language": "python",
     "metadata": {},
     "outputs": [],
     "prompt_number": 2
    },
    {
     "cell_type": "code",
     "collapsed": false,
     "input": [
      "def cleanenglish(tweets):\n",
      "    res=[]\n",
      "    for tweet in tweets:\n",
      "        tweet=str(tweet)\n",
      "        tweet=tweet.lower()\n",
      "        tweet=filter(lambda x: x in string.printable, tweet)\n",
      "        tweet=re.sub('\\[.*\\]', \"\", tweet)\n",
      "        #tweet=tweet.encode('ascii', \"ignore\")\n",
      "        tweet=re.sub(r\"(\\xe2\\x98\\x85|\\xe2\\x97\\x86\\xf0\\x9f\\x93\\x83)|(\\d+\u2212\\d+\u2212\\d+)\", \"\", tweet)  \n",
      "        tweet=re.sub('((www\\.[^\\s]+)|(https?://[^\\s]+))', 'URL', tweet)\n",
      "        tweet=re.sub('@[^\\s]+', 'AT_USER', tweet)\n",
      "        tweet=re.sub('[\\s]+', ' ', tweet)\n",
      "        tweet=re.sub(r'#([^\\s]+)', r'\\1', tweet)\n",
      "        tweet=tweet.strip('\\'\"')\n",
      "        res.append(tweet)\n",
      "    return res"
     ],
     "language": "python",
     "metadata": {},
     "outputs": [],
     "prompt_number": 10
    },
    {
     "cell_type": "code",
     "collapsed": false,
     "input": [
      "word=cleanenglish(word)"
     ],
     "language": "python",
     "metadata": {},
     "outputs": [],
     "prompt_number": 15
    },
    {
     "cell_type": "code",
     "collapsed": false,
     "input": [
      "attitude=[]\n",
      "for item in word:\n",
      "    testitem=TextBlob(item)\n",
      "    if testitem.sentiment.polarity>=0:\n",
      "        attitude.append(1)\n",
      "    else:\n",
      "        attitude.append(0)"
     ],
     "language": "python",
     "metadata": {},
     "outputs": [],
     "prompt_number": 16
    },
    {
     "cell_type": "code",
     "collapsed": false,
     "input": [
      "count=0\n",
      "for i in range(len(attitude)):\n",
      "    if str(attitude[i])==lab[i]:\n",
      "        count+=1"
     ],
     "language": "python",
     "metadata": {},
     "outputs": [],
     "prompt_number": 22
    },
    {
     "cell_type": "code",
     "collapsed": false,
     "input": [
      "count/float(len(attitude))"
     ],
     "language": "python",
     "metadata": {},
     "outputs": [
      {
       "metadata": {},
       "output_type": "pyout",
       "prompt_number": 25,
       "text": [
        "0.7737792830934237"
       ]
      }
     ],
     "prompt_number": 25
    },
    {
     "cell_type": "code",
     "collapsed": false,
     "input": [],
     "language": "python",
     "metadata": {},
     "outputs": [],
     "prompt_number": 25
    },
    {
     "cell_type": "code",
     "collapsed": false,
     "input": [],
     "language": "python",
     "metadata": {},
     "outputs": []
    }
   ],
   "metadata": {}
  }
 ]
}
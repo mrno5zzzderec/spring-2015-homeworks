{
 "metadata": {
  "name": "",
  "signature": "sha256:a3b87cc359503ad1c7fceeaf046b6c19fd6b49206bfc8927028d058a84bd57ff"
 },
 "nbformat": 3,
 "nbformat_minor": 0,
 "worksheets": [
  {
   "cells": [
    {
     "cell_type": "heading",
     "level": 1,
     "metadata": {},
     "source": [
      "Homework 0"
     ]
    },
    {
     "cell_type": "markdown",
     "metadata": {},
     "source": [
      "The goal of this homework is to practice the skills learned in Lecture 2. These skills will be essential for the rest of this course."
     ]
    },
    {
     "cell_type": "markdown",
     "metadata": {},
     "source": [
      "Before starting to work on this homework, **make a new folder** named ```submissions```   under   ```spring-2015-homeworks\\ ```, copy the directory ```Homework-0\\ ``` in it and edit that copy."
     ]
    },
    {
     "cell_type": "markdown",
     "metadata": {},
     "source": [
      "Let's make sure that you placed everything in the correct folder"
     ]
    },
    {
     "cell_type": "code",
     "collapsed": false,
     "input": [
      "import os\n",
      "error = False\n",
      "\n",
      "if os.path.basename(os.path.realpath('.')) != \"Homework-0\":\n",
      "    print \"The name of the current directory should be 'Homework-0'\"\n",
      "    error = True\n",
      "    \n",
      "if os.path.basename(os.path.realpath('..')) != \"submissions\":\n",
      "    print \"You should be working in the folder 'submissions'\"\n",
      "    error = True\n",
      "    \n",
      "if os.path.basename(os.path.realpath('../..')) != 'spring-2015-homeworks':\n",
      "    print \"You copied the directory under the wrong folder. It should be under 'spring-2015-homeworks'\"\n",
      "    error = True\n",
      "\n",
      "if not error:\n",
      "    print \"You did everything correctly. Congrats!\""
     ],
     "language": "python",
     "metadata": {},
     "outputs": [
      {
       "output_type": "stream",
       "stream": "stdout",
       "text": [
        "You did everything correctly. Congrats!\n"
       ]
      }
     ],
     "prompt_number": 1
    },
    {
     "cell_type": "markdown",
     "metadata": {},
     "source": [
      "Now, assuming that everything is in their correct place, you should ``git add`` all the new directories/files and make your initial ```git commit```."
     ]
    },
    {
     "cell_type": "markdown",
     "metadata": {},
     "source": [
      "## This is a Markdown cell"
     ]
    },
    {
     "cell_type": "code",
     "collapsed": false,
     "input": [
      "# Insert and edit your own markdown cell *below*. Write your favorite quote"
     ],
     "language": "python",
     "metadata": {},
     "outputs": []
    },
    {
     "cell_type": "code",
     "collapsed": false,
     "input": [
      "# This is a code cell. Try executing it.\n",
      "print \"hi\""
     ],
     "language": "python",
     "metadata": {},
     "outputs": []
    },
    {
     "cell_type": "markdown",
     "metadata": {},
     "source": [
      "Write a function that takes as argument a string and returns its 3-letter suffix. If the string is shorter than 3 letters, return the whole string"
     ]
    },
    {
     "cell_type": "code",
     "collapsed": false,
     "input": [
      "def suffix_3(string):\n",
      "    if len(string) >3:\n",
      "        return string[0:3]\n",
      "    else:\n",
      "        return string+1\n",
      "    \"\"\"\n",
      "    Returns the 3-letter suffix.\n",
      "    \n",
      "    Parameters:\n",
      "        string: str\n",
      "    \n",
      "    Returns:\n",
      "        suffix: str\n",
      "        If `string` is more than 3-letters long, `suffix` is its 3-letter suffix. Otherwise, `suffix` is the same as `string`.\n",
      "    \"\"\"\n"
     ],
     "language": "python",
     "metadata": {},
     "outputs": [],
     "prompt_number": 5
    },
    {
     "cell_type": "code",
     "collapsed": false,
     "input": [
      "print suffix_3(\"Hi!\")\n",
      "print suffix_3(\"Superb\")"
     ],
     "language": "python",
     "metadata": {},
     "outputs": [
      {
       "output_type": "stream",
       "stream": "stdout",
       "text": [
        "Hi!\n",
        "Sup\n"
       ]
      }
     ],
     "prompt_number": 6
    },
    {
     "cell_type": "markdown",
     "metadata": {},
     "source": [
      "When you finish with the above function, don't forget to ```add``` and ```commit``` to your local git repository."
     ]
    },
    {
     "cell_type": "markdown",
     "metadata": {},
     "source": [
      "Let's print the versions of some packages that we will be using in the future. If any of these packages are not present, you should ```conda install``` them later."
     ]
    },
    {
     "cell_type": "code",
     "collapsed": false,
     "input": [
      "import numpy\n",
      "print 'numpy:', numpy.__version__\n",
      "\n",
      "import scipy\n",
      "print 'scipy:', scipy.__version__\n",
      "\n",
      "import matplotlib\n",
      "print 'matplotlib:', matplotlib.__version__\n",
      "\n",
      "import sklearn\n",
      "print 'scikit-learn:', sklearn.__version__\n",
      "\n",
      "import pandas\n",
      "print 'pandas:', pandas.__version__"
     ],
     "language": "python",
     "metadata": {},
     "outputs": [
      {
       "output_type": "stream",
       "stream": "stdout",
       "text": [
        "numpy: 1.9.0\n",
        "scipy: 0.14.0\n",
        "matplotlib:"
       ]
      },
      {
       "output_type": "stream",
       "stream": "stdout",
       "text": [
        " 1.4.0\n",
        "scikit-learn:"
       ]
      },
      {
       "output_type": "stream",
       "stream": "stdout",
       "text": [
        " 0.15.2\n",
        "pandas:"
       ]
      },
      {
       "output_type": "stream",
       "stream": "stdout",
       "text": [
        " 0.14.1\n"
       ]
      }
     ],
     "prompt_number": 7
    },
    {
     "cell_type": "heading",
     "level": 2,
     "metadata": {},
     "source": [
      "Submitting"
     ]
    },
    {
     "cell_type": "markdown",
     "metadata": {},
     "source": [
      "Now, you can follow the submission guidelines from the lecture notes to push your changes to your Github fork."
     ]
    },
    {
     "cell_type": "code",
     "collapsed": false,
     "input": [
      "# Code for setting the style of the notebook\n",
      "from IPython.core.display import HTML\n",
      "def css_styling():\n",
      "    styles = open(\"../../theme/custom.css\", \"r\").read()\n",
      "    return HTML(styles)\n",
      "css_styling()"
     ],
     "language": "python",
     "metadata": {},
     "outputs": [
      {
       "ename": "NameError",
       "evalue": "name 'ttttttttttttttttttttttttttt' is not defined",
       "output_type": "pyerr",
       "traceback": [
        "\u001b[1;31m---------------------------------------------------------------------------\u001b[0m\n\u001b[1;31mNameError\u001b[0m                                 Traceback (most recent call last)",
        "\u001b[1;32m<ipython-input-8-18d87f1304d3>\u001b[0m in \u001b[0;36m<module>\u001b[1;34m()\u001b[0m\n\u001b[0;32m      5\u001b[0m     \u001b[1;32mreturn\u001b[0m \u001b[0mHTML\u001b[0m\u001b[1;33m(\u001b[0m\u001b[0mstyles\u001b[0m\u001b[1;33m)\u001b[0m\u001b[1;33m\u001b[0m\u001b[0m\n\u001b[0;32m      6\u001b[0m \u001b[0mcss_styling\u001b[0m\u001b[1;33m(\u001b[0m\u001b[1;33m)\u001b[0m\u001b[1;33m\u001b[0m\u001b[0m\n\u001b[1;32m----> 7\u001b[1;33m \u001b[1;32mprint\u001b[0m \u001b[0mttttttttttttttttttttttttttt\u001b[0m\u001b[1;33m\u001b[0m\u001b[0m\n\u001b[0m",
        "\u001b[1;31mNameError\u001b[0m: name 'ttttttttttttttttttttttttttt' is not defined"
       ]
      }
     ],
     "prompt_number": 8
    },
    {
     "cell_type": "code",
     "collapsed": false,
     "input": [],
     "language": "python",
     "metadata": {},
     "outputs": []
    }
   ],
   "metadata": {}
  }
 ]
}